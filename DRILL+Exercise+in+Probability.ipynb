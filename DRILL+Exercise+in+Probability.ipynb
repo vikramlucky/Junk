{
 "cells": [
  {
   "cell_type": "code",
   "execution_count": 1,
   "metadata": {
    "collapsed": true
   },
   "outputs": [],
   "source": [
    "#Now it’s time to compute some probabilities. Keep track of your work in a Google document or \n",
    "#markdown file that you can share with your mentor.\n",
    "\n"
   ]
  },
  {
   "cell_type": "code",
   "execution_count": 2,
   "metadata": {
    "collapsed": true
   },
   "outputs": [],
   "source": [
    "# 1. Calculate the probability of flipping a balanced coin four times and getting each pattern: HTTH, HHHH and TTHH.\n",
    "# Number of outcomes. 2 * 2 * 2 * 2 = 16    so it's 1/16 chances. or 16%"
   ]
  },
  {
   "cell_type": "code",
   "execution_count": 3,
   "metadata": {
    "collapsed": true
   },
   "outputs": [],
   "source": [
    "# 2. If a list of people has 24 women and 21 men, then the probability of choosing a man from the list is 21/45. \n",
    "#    What is the probability of not choosing a man?\n",
    "#   -Probabilty of not choosing man is 24/45. or ~53.3%\n"
   ]
  },
  {
   "cell_type": "code",
   "execution_count": 4,
   "metadata": {
    "collapsed": true
   },
   "outputs": [],
   "source": [
    "#3. The probability that Bernice will travel by plane sometime in the next year is 10%. \n",
    "#   The probability of a plane crash at any time is .005%. What is the probability that Bernice will be in a plane \n",
    "#   crash sometime in the next year?\n",
    "#   1/10 * .5/100"
   ]
  },
  {
   "cell_type": "code",
   "execution_count": null,
   "metadata": {
    "collapsed": true
   },
   "outputs": [],
   "source": [
    "# 4. A data scientist wants to study the behavior of users on the company website. \n",
    "#Each time a user clicks on a link on the website, there is a 5% chance that the user will be asked to \n",
    "#complete a short survey about their behavior on the website. \n",
    "#The data scientist uses the survey data to conclude that, on average,\n",
    "#users spend 15 minutes surfing the company website before moving on to other things. \n",
    "# What is wrong with this conclusion?\n",
    "# - There are 5% chances that a user will be asked to complete short survey, i think the population sample is way to low\n",
    "# for that conclusion."
   ]
  }
 ],
 "metadata": {
  "kernelspec": {
   "display_name": "Python 3",
   "language": "python",
   "name": "python3"
  },
  "language_info": {
   "codemirror_mode": {
    "name": "ipython",
    "version": 3
   },
   "file_extension": ".py",
   "mimetype": "text/x-python",
   "name": "python",
   "nbconvert_exporter": "python",
   "pygments_lexer": "ipython3",
   "version": "3.6.1"
  }
 },
 "nbformat": 4,
 "nbformat_minor": 2
}
