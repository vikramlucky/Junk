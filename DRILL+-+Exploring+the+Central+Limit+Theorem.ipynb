{
 "cells": [
  {
   "cell_type": "code",
   "execution_count": 1,
   "metadata": {
    "collapsed": true
   },
   "outputs": [],
   "source": [
    "import numpy as np\n",
    "import pandas as pd\n",
    "import matplotlib.pyplot as plt\n",
    "%matplotlib inline"
   ]
  },
  {
   "cell_type": "code",
   "execution_count": 31,
   "metadata": {},
   "outputs": [
    {
     "name": "stdout",
     "output_type": "stream",
     "text": [
      "Mean of Sample group 1 of sample size 100 is:  1.94\n",
      "Standard Deviation of Sample group 1 of sample size 100 is:  1.1385956262\n",
      "Mean of Sample group 2 of sample size 100 is:  5.2\n",
      "Standard Deviation of Sample group 2 of sample size 100 is:  1.50996688705\n",
      "Difference between 2 sample means:  3.26\n"
     ]
    }
   ],
   "source": [
    "#USING SAMPLE SIZE OF 100\n",
    "pop1 = np.random.binomial(10, 0.2, 10000)\n",
    "pop2 = np.random.binomial(10,0.5, 10000)\n",
    "sample1 = np.random.choice(pop1, 100, replace=True) \n",
    "sample2 = np.random.choice(pop2, 100, replace=True)\n",
    "meansample1 = np.mean(sample1)\n",
    "meansample2 = np.mean(sample2)\n",
    "stdsample1 = np.std(sample1)\n",
    "stdsample2 = np.std(sample2)\n",
    "print(\"Mean of Sample group 1 of sample size 100 is: \",meansample1)\n",
    "print(\"Standard Deviation of Sample group 1 of sample size 100 is: \",stdsample1)\n",
    "\n",
    "print(\"Mean of Sample group 2 of sample size 100 is: \",meansample2)\n",
    "print(\"Standard Deviation of Sample group 2 of sample size 100 is: \",stdsample2)\n",
    "\n",
    "print(\"Difference between 2 sample means: \", meansample2 - meansample1)"
   ]
  },
  {
   "cell_type": "code",
   "execution_count": 10,
   "metadata": {
    "collapsed": true
   },
   "outputs": [],
   "source": [
    "#Increase the size of your samples from 100 to 1000, \n",
    "#then calculate the means and standard deviations for your new samples and create histograms for each. \n",
    "#Repeat this again, decreasing the size of your samples to 20. \n",
    "#What values change, and what remain the same?"
   ]
  },
  {
   "cell_type": "code",
   "execution_count": 32,
   "metadata": {},
   "outputs": [
    {
     "name": "stdout",
     "output_type": "stream",
     "text": [
      "Mean of Sample group 1 of sample size 1000 is:  2.022\n",
      "Standard Deviation of Sample group 1 of sample size 1000 is:  1.2757413531\n",
      "Mean of Sample group 2 of sample size 1000 is:  5.042\n",
      "Standard Deviation of Sample group 2 of sample size 1000 is:  1.52847505704\n",
      "Difference between 2 sample means:  3.02\n"
     ]
    },
    {
     "data": {
      "image/png": "[encoded data removed]",
      "text/plain": [
       "<matplotlib.figure.Figure at 0x1145a0208>"
      ]
     },
     "metadata": {},
     "output_type": "display_data"
    }
   ],
   "source": [
    "#By increasing the size of sample i EXPECT to see more accurate numbers, or number more close to normal distribution.\n",
    "sample1 = np.random.choice(pop1, 1000, replace=True) \n",
    "sample2 = np.random.choice(pop2, 1000, replace=True)\n",
    "meansample1 = np.mean(sample1)\n",
    "meansample2 = np.mean(sample2)\n",
    "stdsample1 = np.std(sample1)\n",
    "stdsample2 = np.std(sample2)\n",
    "print(\"Mean of Sample group 1 of sample size 1000 is: \",meansample1)\n",
    "print(\"Standard Deviation of Sample group 1 of sample size 1000 is: \",stdsample1)\n",
    "\n",
    "\n",
    "print(\"Mean of Sample group 2 of sample size 1000 is: \",meansample2)\n",
    "print(\"Standard Deviation of Sample group 2 of sample size 1000 is: \",stdsample2)\n",
    "\n",
    "print(\"Difference between 2 sample means: \", meansample2 - meansample1)\n",
    "\n",
    "plt.hist(sample1, alpha=0.5, label='sample 1')\n",
    "plt.axvline(x=meansample1, color = \"black\")\n",
    "plt.axvline(x=stdsample1, color = \"red\")\n",
    "\n",
    "plt.hist(sample2, alpha=0.5, label='sample 2')\n",
    "plt.axvline(x=meansample2, color = \"grey\")\n",
    "plt.axvline(x=stdsample2, color = \"blue\")\n",
    "\n",
    "\n",
    "plt.legend(loc='upper right') \n",
    "plt.show()\n",
    "\n",
    "#We see mean and Std both decreased in group1 and they both increased in group2 "
   ]
  },
  {
   "cell_type": "code",
   "execution_count": 44,
   "metadata": {},
   "outputs": [
    {
     "name": "stdout",
     "output_type": "stream",
     "text": [
      "Mean of Sample group 1 of sample size 20 is:  2.3\n",
      "Standard Deviation of Sample group 1 of sample size 20 is:  1.05356537529\n",
      "Mean of Sample group 2 of sample size 20 is:  5.0\n",
      "Standard Deviation of Sample group 2 of sample size 20 is:  1.84390889146\n",
      "Difference between 2 sample means:  2.7\n"
     ]
    },
    {
     "data": {
      "image/png": "[encoded data removed]",
      "text/plain": [
       "<matplotlib.figure.Figure at 0x1143410b8>"
      ]
     },
     "metadata": {},
     "output_type": "display_data"
    }
   ],
   "source": [
    "#USING SAMPLE SIZE OF 20\n",
    "#By decreasing the size of sample i EXPECT to see more inaccurate numbers, or number far away from normal distribution.\n",
    "sample1 = np.random.choice(pop1, 20, replace=True) \n",
    "sample2 = np.random.choice(pop2, 20, replace=True)\n",
    "meansample1 = np.mean(sample1)\n",
    "meansample2 = np.mean(sample2)\n",
    "stdsample1 = np.std(sample1)\n",
    "stdsample2 = np.std(sample2)\n",
    "print(\"Mean of Sample group 1 of sample size 20 is: \",meansample1)\n",
    "print(\"Standard Deviation of Sample group 1 of sample size 20 is: \",stdsample1)\n",
    "\n",
    "\n",
    "print(\"Mean of Sample group 2 of sample size 20 is: \",meansample2)\n",
    "print(\"Standard Deviation of Sample group 2 of sample size 20 is: \",stdsample2)\n",
    "\n",
    "print(\"Difference between 2 sample means: \", meansample2 - meansample1)\n",
    "\n",
    "plt.hist(sample1, alpha=0.5, label='sample 1')\n",
    "plt.axvline(x=meansample1, color = \"black\")\n",
    "plt.axvline(x=stdsample1, color = \"red\")\n",
    "\n",
    "plt.hist(sample2, alpha=0.5, label='sample 2')\n",
    "plt.axvline(x=meansample2, color = \"grey\")\n",
    "plt.axvline(x=stdsample2, color = \"blue\")\n",
    "\n",
    "plt.legend(loc='upper right') \n",
    "plt.show()\n",
    "\n",
    "#Standard deviation in both groups increased, as sample size of 20 has more spread apart numbers\n",
    "#Standard deviation in both groups increased, as sample size of 20 has more spread apart numbers\n",
    "# difference between 2 means decreased which according to me is tottaly wrong\n"
   ]
  },
  {
   "cell_type": "code",
   "execution_count": 50,
   "metadata": {},
   "outputs": [
    {
     "name": "stdout",
     "output_type": "stream",
     "text": [
      "ttesting using pop1 .3 and sample size of 100:  Ttest_indResult(statistic=7.3290538874660305, pvalue=6.2908294959359743e-12)\n",
      "ttesting using pop1 .4 and sample size of 100:  Ttest_indResult(statistic=2.9461041973944906, pvalue=0.0036053504591741555)\n",
      "#statistic value decreased and pvalue increased because we changed the standard deviation in population.\n"
     ]
    }
   ],
   "source": [
    "#Change the population value (p in the NumPy documentation) for pop1 to 0.3, \n",
    "#then take new samples and compute the t-statistic and p-value. \n",
    "#Then change the population value p for group 1 to 0.4, and do it again. What changes, and why?\n",
    "#USING SAMPLE SIZE OF 20\n",
    "from scipy.stats import ttest_ind\n",
    "pop1 = np.random.binomial(10, 0.3, 10000)\n",
    "pop2 = np.random.binomial(10,0.5, 10000)\n",
    "\n",
    "sample1 = np.random.choice(pop1, 100, replace=True)\n",
    "sample2 = np.random.choice(pop2, 100, replace=True)\n",
    "\n",
    "print(\"ttesting using pop1 .3 and sample size of 100: \",ttest_ind(sample2, sample1, equal_var=False))\n",
    "\n",
    "pop1 = np.random.binomial(10, 0.4, 10000)\n",
    "pop2 = np.random.binomial(10,0.5, 10000)\n",
    "\n",
    "sample1 = np.random.choice(pop1, 100, replace=True)\n",
    "sample2 = np.random.choice(pop2, 100, replace=True)\n",
    "\n",
    "print(\"ttesting using pop1 .4 and sample size of 100: \",ttest_ind(sample2, sample1, equal_var=False))\n",
    "print(\"#statistic value decreased and pvalue increased because we changed the standard deviation in population.\")\n",
    "\n"
   ]
  },
  {
   "cell_type": "code",
   "execution_count": 52,
   "metadata": {},
   "outputs": [
    {
     "name": "stdout",
     "output_type": "stream",
     "text": [
      "ttesting using pop1 .3 and sample size of 20:  Ttest_indResult(statistic=3.2999228462040211, pvalue=0.0021203835380215175)\n",
      "ttesting using pop1 .4 and sample size of 20:  Ttest_indResult(statistic=1.1580917366893857, pvalue=0.25412820984328283)\n",
      "We decreased the sample size to 20 as expected these numbers are less less reliable than sample size 100 \n"
     ]
    }
   ],
   "source": [
    "pop1 = np.random.binomial(10, 0.3, 10000)\n",
    "pop2 = np.random.binomial(10,0.5, 10000)\n",
    "\n",
    "sample1 = np.random.choice(pop1, 20, replace=True)\n",
    "sample2 = np.random.choice(pop2, 20, replace=True)\n",
    "\n",
    "print(\"ttesting using pop1 .3 and sample size of 20: \",ttest_ind(sample2, sample1, equal_var=False))\n",
    "\n",
    "pop1 = np.random.binomial(10, 0.4, 10000)\n",
    "pop2 = np.random.binomial(10,0.5, 10000)\n",
    "\n",
    "sample1 = np.random.choice(pop1, 20, replace=True)\n",
    "sample2 = np.random.choice(pop2, 20, replace=True)\n",
    "\n",
    "print(\"ttesting using pop1 .4 and sample size of 20: \",ttest_ind(sample2, sample1, equal_var=False))\n",
    "print(\"We decreased the sample size to 20 as expected these numbers are less less reliable than sample size 100 \")\n",
    "\n"
   ]
  },
  {
   "cell_type": "code",
   "execution_count": 58,
   "metadata": {},
   "outputs": [
    {
     "name": "stdout",
     "output_type": "stream",
     "text": [
      "ttesting using pop1 gamma .3 and sample size of 100:  Ttest_indResult(statistic=11.353071714234781, pvalue=8.2999053642561269e-22)\n",
      "ttesting using pop1 gamma .4 and sample size of 100:  Ttest_indResult(statistic=0.69435841575424184, pvalue=0.4917028640541905)\n",
      "Using Gamma distribution method, on sample size of 100, Difference is not much in numbers.\n"
     ]
    }
   ],
   "source": [
    "#Change the distribution of your populations from binomial to a distribution of your choice. \n",
    "#Do the sample mean values still accurately represent the population values?\n",
    "pop1 = np.random.gamma(10, 0.3, 10000)\n",
    "pop2 = np.random.gamma(10,0.5, 10000)\n",
    "\n",
    "sample1 = np.random.choice(pop1, 100, replace=True)\n",
    "sample2 = np.random.choice(pop2, 100, replace=True)\n",
    "\n",
    "print(\"ttesting using pop1 gamma .3 and sample size of 100: \",ttest_ind(sample2, sample1, equal_var=False))\n",
    "\n",
    "pop1 = np.random.binomial(10, 0.4, 10000)\n",
    "pop2 = np.random.binomial(10,0.5, 10000)\n",
    "\n",
    "sample1 = np.random.choice(pop1, 20, replace=True)\n",
    "sample2 = np.random.choice(pop2, 20, replace=True)\n",
    "\n",
    "print(\"ttesting using pop1 gamma .4 and sample size of 100: \",ttest_ind(sample2, sample1, equal_var=False))\n",
    "\n",
    "print(\"Using Gamma distribution method, on sample size of 100, Difference is not much in numbers.\")\n",
    "\n"
   ]
  },
  {
   "cell_type": "code",
   "execution_count": null,
   "metadata": {
    "collapsed": true
   },
   "outputs": [],
   "source": []
  }
 ],
 "metadata": {
  "kernelspec": {
   "display_name": "Python 3",
   "language": "python",
   "name": "python3"
  },
  "language_info": {
   "codemirror_mode": {
    "name": "ipython",
    "version": 3
   },
   "file_extension": ".py",
   "mimetype": "text/x-python",
   "name": "python",
   "nbconvert_exporter": "python",
   "pygments_lexer": "ipython3",
   "version": "3.6.1"
  }
 },
 "nbformat": 4,
 "nbformat_minor": 2
}
