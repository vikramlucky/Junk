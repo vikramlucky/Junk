{
 "cells": [
  {
   "cell_type": "code",
   "execution_count": 1,
   "metadata": {
    "collapsed": true
   },
   "outputs": [],
   "source": [
    "#A diagnostic test has a 98% probability of giving a positive result \n",
    "#when applied to a person suffering from Thripshaw's Disease, \n",
    "#and 10% probability of giving a (false) positive when applied to a non-sufferer. \n",
    "#It is estimated that 0.5 % of the population are sufferers. \n",
    "#Suppose that the test is now administered to a person whose disease status is unknown. \n",
    "#Calculate the probability that the test will:"
   ]
  },
  {
   "cell_type": "code",
   "execution_count": 23,
   "metadata": {},
   "outputs": [],
   "source": [
    "pba_pa = .98 * .005\n",
    "pb = (.005) * (.90)\n",
    "pb1 = (99.995) * (.10)\n",
    "PB = (pb + pb1)"
   ]
  },
  {
   "cell_type": "code",
   "execution_count": 25,
   "metadata": {},
   "outputs": [],
   "source": [
    "Positive = (pba_pa / PB) * 100"
   ]
  },
  {
   "cell_type": "code",
   "execution_count": 38,
   "metadata": {},
   "outputs": [
    {
     "name": "stdout",
     "output_type": "stream",
     "text": [
      "0.04898040783686524 % PEOPLE OF CHANCES OF BEING DIAGNOSED POSITIVE REGARDLESS OF THEIR STATE\n"
     ]
    }
   ],
   "source": [
    "print(Positive, \"% PEOPLE OF CHANCES OF BEING DIAGNOSED POSITIVE REGARDLESS OF THEIR STATE\")"
   ]
  },
  {
   "cell_type": "code",
   "execution_count": 39,
   "metadata": {},
   "outputs": [],
   "source": [
    "Negative = 100 - Positive"
   ]
  },
  {
   "cell_type": "code",
   "execution_count": 37,
   "metadata": {},
   "outputs": [
    {
     "name": "stdout",
     "output_type": "stream",
     "text": [
      "99.95101959216314 % PEOPLE OF CHANCES OF BEING DIAGNOSED Negative REGARDELESS OF THEIR STATE\n"
     ]
    }
   ],
   "source": [
    "print(Negative, \"% PEOPLE OF CHANCES OF BEING DIAGNOSED Negative REGARDLESS OF THEIR STATE\")"
   ]
  },
  {
   "cell_type": "code",
   "execution_count": null,
   "metadata": {
    "collapsed": true
   },
   "outputs": [],
   "source": []
  }
 ],
 "metadata": {
  "kernelspec": {
   "display_name": "Python 3",
   "language": "python",
   "name": "python3"
  },
  "language_info": {
   "codemirror_mode": {
    "name": "ipython",
    "version": 3
   },
   "file_extension": ".py",
   "mimetype": "text/x-python",
   "name": "python",
   "nbconvert_exporter": "python",
   "pygments_lexer": "ipython3",
   "version": "3.6.1"
  }
 },
 "nbformat": 4,
 "nbformat_minor": 2
}
