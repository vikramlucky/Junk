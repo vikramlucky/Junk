{
 "cells": [
  {
   "cell_type": "code",
   "execution_count": 5,
   "metadata": {
    "collapsed": true
   },
   "outputs": [],
   "source": [
    "import numpy as np\n",
    "import statistics as st\n",
    "#Greg was 14, Marcia was 12, Peter was 11, Jan was 10, Bobby was 8, \n",
    "#and Cindy was 6 when they started playing the Brady kids on The Brady Bunch. \n",
    "#Cousin Oliver was 8 years old when he joined the show. \n",
    "kids_ages = [14, 12, 11, 10, 8, 6, 8] #creating Numpy array with kids ages. using numpy array as i will be using numpy finctions."
   ]
  },
  {
   "cell_type": "code",
   "execution_count": 19,
   "metadata": {},
   "outputs": [
    {
     "name": "stdout",
     "output_type": "stream",
     "text": [
      "Mean:  9.85714285714\n",
      "Median 10.0\n",
      "Mode:  8\n",
      "Variance:  6.40816326531\n",
      "Standard Deviation:  2.53143502095\n",
      "Standard Error:  0.956792503652\n"
     ]
    }
   ],
   "source": [
    "#What are the mean, median, and mode of the kids' ages when they first appeared on the show? \n",
    "#What are the variance, standard deviation, and standard error?\n",
    "print(\"Mean: \", np.mean(kids_ages))\n",
    "print(\"Median\", np.median(kids_ages))\n",
    "print(\"Mode: \", st.mode(kids_ages))\n",
    "print(\"Variance: \", np.var(kids_ages))\n",
    "print(\"Standard Deviation: \", np.std(kids_ages))\n",
    "print(\"Standard Error: \", np.std(kids_ages)/np.sqrt(len(kids_ages)))"
   ]
  },
  {
   "cell_type": "code",
   "execution_count": 20,
   "metadata": {
    "collapsed": true
   },
   "outputs": [],
   "source": [
    "#Using these estimates, if you had to choose only one estimate of central tendency and \n",
    "#one estimate of variance to describe the data, \n",
    "#which would you pick and why?\n",
    "#I'd pick Mean and variance, mean is close to median and  variance shows how far the numbers are from each other."
   ]
  },
  {
   "cell_type": "code",
   "execution_count": 21,
   "metadata": {},
   "outputs": [
    {
     "name": "stdout",
     "output_type": "stream",
     "text": [
      "Mean:  10.0\n",
      "Median 10.0\n",
      "Mode:  8\n",
      "Variance:  5.42857142857\n",
      "Standard Deviation:  2.32992949004\n",
      "Standard Error:  0.880630571853\n"
     ]
    }
   ],
   "source": [
    "kids_ages1 = [14, 12, 11, 10, 8, 7, 8]\n",
    "print(\"Mean: \", np.mean(kids_ages1))\n",
    "print(\"Median\", np.median(kids_ages1))\n",
    "print(\"Mode: \", st.mode(kids_ages1))\n",
    "print(\"Variance: \", np.var(kids_ages1))\n",
    "print(\"Standard Deviation: \", np.std(kids_ages1))\n",
    "print(\"Standard Error: \", np.std(kids_ages1)/np.sqrt(len(kids_ages1)))"
   ]
  },
  {
   "cell_type": "code",
   "execution_count": 22,
   "metadata": {
    "collapsed": true
   },
   "outputs": [],
   "source": [
    "#With the change of Cindys BDAY. mean and median are same now and variance, \n",
    "#Stdeviation and standard error also decreased.\n",
    "\n"
   ]
  },
  {
   "cell_type": "code",
   "execution_count": 24,
   "metadata": {},
   "outputs": [
    {
     "name": "stdout",
     "output_type": "stream",
     "text": [
      "Mean:  9.0\n",
      "Median 10.0\n",
      "Variance:  15.4285714286\n",
      "Standard Deviation:  3.92792202425\n",
      "Standard Error:  1.48461497792\n"
     ]
    }
   ],
   "source": [
    "kids_ages2 = [14, 12, 11, 10, 8, 7, 1]\n",
    "print(\"Mean: \", np.mean(kids_ages2))\n",
    "print(\"Median\", np.median(kids_ages2))\n",
    "#print(\"Mode: \", st.mode(kids_ages2))\n",
    "print(\"Variance: \", np.var(kids_ages2))\n",
    "print(\"Standard Deviation: \", np.std(kids_ages2))\n",
    "print(\"Standard Error: \", np.std(kids_ages2)/np.sqrt(len(kids_ages2)))"
   ]
  },
  {
   "cell_type": "code",
   "execution_count": 25,
   "metadata": {
    "collapsed": true
   },
   "outputs": [],
   "source": [
    "#yes it changes. there is no mode this time. and also median changed, variance dramtically increased"
   ]
  },
  {
   "cell_type": "code",
   "execution_count": 26,
   "metadata": {},
   "outputs": [
    {
     "data": {
      "text/plain": [
       "16.25"
      ]
     },
     "execution_count": 26,
     "metadata": {},
     "output_type": "execute_result"
    }
   ],
   "source": [
    "(20 + 23 + 17 + 5) / 4 "
   ]
  },
  {
   "cell_type": "code",
   "execution_count": 28,
   "metadata": {},
   "outputs": [],
   "source": [
    "#so about 16 ~ 17 %"
   ]
  },
  {
   "cell_type": "code",
   "execution_count": null,
   "metadata": {
    "collapsed": true
   },
   "outputs": [],
   "source": []
  }
 ],
 "metadata": {
  "kernelspec": {
   "display_name": "Python 3",
   "language": "python",
   "name": "python3"
  },
  "language_info": {
   "codemirror_mode": {
    "name": "ipython",
    "version": 3
   },
   "file_extension": ".py",
   "mimetype": "text/x-python",
   "name": "python",
   "nbconvert_exporter": "python",
   "pygments_lexer": "ipython3",
   "version": "3.6.1"
  }
 },
 "nbformat": 4,
 "nbformat_minor": 2
}
