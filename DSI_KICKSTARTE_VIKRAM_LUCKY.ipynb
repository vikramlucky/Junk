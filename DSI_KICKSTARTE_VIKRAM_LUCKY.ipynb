{
 "cells": [
  {
   "cell_type": "code",
   "execution_count": 1,
   "metadata": {
    "collapsed": true
   },
   "outputs": [],
   "source": [
    "import pandas as pd \n",
    "import numpy as np\n",
    "from scipy import stats as st\n",
    "import matplotlib.pyplot as plt\n",
    "%matplotlib inline"
   ]
  },
  {
   "cell_type": "code",
   "execution_count": 2,
   "metadata": {
    "collapsed": true
   },
   "outputs": [],
   "source": [
    "df = pd.read_csv(\"DSI_kickstarterscrape_dataset.csv\", encoding = 'Latin1')"
   ]
  },
  {
   "cell_type": "code",
   "execution_count": 3,
   "metadata": {},
   "outputs": [
    {
     "data": {
      "text/html": [
       "<div>\n",
       "<style>\n",
       "    .dataframe thead tr:only-child th {\n",
       "        text-align: right;\n",
       "    }\n",
       "\n",
       "    .dataframe thead th {\n",
       "        text-align: left;\n",
       "    }\n",
       "\n",
       "    .dataframe tbody tr th {\n",
       "        vertical-align: top;\n",
       "    }\n",
       "</style>\n",
       "<table border=\"1\" class=\"dataframe\">\n",
       "  <thead>\n",
       "    <tr style=\"text-align: right;\">\n",
       "      <th></th>\n",
       "      <th>project id</th>\n",
       "      <th>name</th>\n",
       "      <th>url</th>\n",
       "      <th>category</th>\n",
       "      <th>subcategory</th>\n",
       "      <th>location</th>\n",
       "      <th>status</th>\n",
       "      <th>goal</th>\n",
       "      <th>pledged</th>\n",
       "      <th>funded percentage</th>\n",
       "      <th>backers</th>\n",
       "      <th>funded date</th>\n",
       "      <th>levels</th>\n",
       "      <th>reward levels</th>\n",
       "      <th>updates</th>\n",
       "      <th>comments</th>\n",
       "      <th>duration</th>\n",
       "    </tr>\n",
       "  </thead>\n",
       "  <tbody>\n",
       "    <tr>\n",
       "      <th>0</th>\n",
       "      <td>39409</td>\n",
       "      <td>WHILE THE TREES SLEEP</td>\n",
       "      <td>http://www.kickstarter.com/projects/emiliesaba...</td>\n",
       "      <td>Film &amp; Video</td>\n",
       "      <td>Short Film</td>\n",
       "      <td>Columbia, MO</td>\n",
       "      <td>successful</td>\n",
       "      <td>10500.0</td>\n",
       "      <td>11545.0</td>\n",
       "      <td>1.099524</td>\n",
       "      <td>66</td>\n",
       "      <td>Fri, 19 Aug 2011 19:28:17 -0000</td>\n",
       "      <td>7</td>\n",
       "      <td>$25,$50,$100,$250,$500,$1,000,$2,500</td>\n",
       "      <td>10</td>\n",
       "      <td>2</td>\n",
       "      <td>30.00</td>\n",
       "    </tr>\n",
       "    <tr>\n",
       "      <th>1</th>\n",
       "      <td>126581</td>\n",
       "      <td>Educational Online Trading Card Game</td>\n",
       "      <td>http://www.kickstarter.com/projects/972789543/...</td>\n",
       "      <td>Games</td>\n",
       "      <td>Board &amp; Card Games</td>\n",
       "      <td>Maplewood, NJ</td>\n",
       "      <td>failed</td>\n",
       "      <td>4000.0</td>\n",
       "      <td>20.0</td>\n",
       "      <td>0.005000</td>\n",
       "      <td>2</td>\n",
       "      <td>Mon, 02 Aug 2010 03:59:00 -0000</td>\n",
       "      <td>5</td>\n",
       "      <td>$1,$5,$10,$25,$50</td>\n",
       "      <td>6</td>\n",
       "      <td>0</td>\n",
       "      <td>47.18</td>\n",
       "    </tr>\n",
       "    <tr>\n",
       "      <th>2</th>\n",
       "      <td>138119</td>\n",
       "      <td>STRUM</td>\n",
       "      <td>http://www.kickstarter.com/projects/185476022/...</td>\n",
       "      <td>Film &amp; Video</td>\n",
       "      <td>Animation</td>\n",
       "      <td>Los Angeles, CA</td>\n",
       "      <td>live</td>\n",
       "      <td>20000.0</td>\n",
       "      <td>56.0</td>\n",
       "      <td>0.002800</td>\n",
       "      <td>3</td>\n",
       "      <td>Fri, 08 Jun 2012 00:00:31 -0000</td>\n",
       "      <td>10</td>\n",
       "      <td>$1,$10,$25,$40,$50,$100,$250,$1,000,$1,337,$9,001</td>\n",
       "      <td>1</td>\n",
       "      <td>0</td>\n",
       "      <td>28.00</td>\n",
       "    </tr>\n",
       "    <tr>\n",
       "      <th>3</th>\n",
       "      <td>237090</td>\n",
       "      <td>GETTING OVER - One son's search to finally kno...</td>\n",
       "      <td>http://www.kickstarter.com/projects/charnick/g...</td>\n",
       "      <td>Film &amp; Video</td>\n",
       "      <td>Documentary</td>\n",
       "      <td>Los Angeles, CA</td>\n",
       "      <td>successful</td>\n",
       "      <td>6000.0</td>\n",
       "      <td>6535.0</td>\n",
       "      <td>1.089167</td>\n",
       "      <td>100</td>\n",
       "      <td>Sun, 08 Apr 2012 02:14:00 -0000</td>\n",
       "      <td>13</td>\n",
       "      <td>$1,$10,$25,$30,$50,$75,$85,$100,$110,$250,$500...</td>\n",
       "      <td>4</td>\n",
       "      <td>0</td>\n",
       "      <td>32.22</td>\n",
       "    </tr>\n",
       "    <tr>\n",
       "      <th>4</th>\n",
       "      <td>246101</td>\n",
       "      <td>The Launch of FlyeGrlRoyalty &amp;quot;The New Nam...</td>\n",
       "      <td>http://www.kickstarter.com/projects/flyegrlroy...</td>\n",
       "      <td>Fashion</td>\n",
       "      <td>Fashion</td>\n",
       "      <td>Novi, MI</td>\n",
       "      <td>failed</td>\n",
       "      <td>3500.0</td>\n",
       "      <td>0.0</td>\n",
       "      <td>0.000000</td>\n",
       "      <td>0</td>\n",
       "      <td>Wed, 01 Jun 2011 15:25:39 -0000</td>\n",
       "      <td>6</td>\n",
       "      <td>$10,$25,$50,$100,$150,$250</td>\n",
       "      <td>2</td>\n",
       "      <td>0</td>\n",
       "      <td>30.00</td>\n",
       "    </tr>\n",
       "  </tbody>\n",
       "</table>\n",
       "</div>"
      ],
      "text/plain": [
       "   project id                                               name  \\\n",
       "0       39409                              WHILE THE TREES SLEEP   \n",
       "1      126581               Educational Online Trading Card Game   \n",
       "2      138119                                              STRUM   \n",
       "3      237090  GETTING OVER - One son's search to finally kno...   \n",
       "4      246101  The Launch of FlyeGrlRoyalty &quot;The New Nam...   \n",
       "\n",
       "                                                 url      category  \\\n",
       "0  http://www.kickstarter.com/projects/emiliesaba...  Film & Video   \n",
       "1  http://www.kickstarter.com/projects/972789543/...         Games   \n",
       "2  http://www.kickstarter.com/projects/185476022/...  Film & Video   \n",
       "3  http://www.kickstarter.com/projects/charnick/g...  Film & Video   \n",
       "4  http://www.kickstarter.com/projects/flyegrlroy...       Fashion   \n",
       "\n",
       "          subcategory         location      status     goal  pledged  \\\n",
       "0          Short Film     Columbia, MO  successful  10500.0  11545.0   \n",
       "1  Board & Card Games    Maplewood, NJ      failed   4000.0     20.0   \n",
       "2           Animation  Los Angeles, CA        live  20000.0     56.0   \n",
       "3         Documentary  Los Angeles, CA  successful   6000.0   6535.0   \n",
       "4             Fashion         Novi, MI      failed   3500.0      0.0   \n",
       "\n",
       "   funded percentage  backers                      funded date  levels  \\\n",
       "0           1.099524       66  Fri, 19 Aug 2011 19:28:17 -0000       7   \n",
       "1           0.005000        2  Mon, 02 Aug 2010 03:59:00 -0000       5   \n",
       "2           0.002800        3  Fri, 08 Jun 2012 00:00:31 -0000      10   \n",
       "3           1.089167      100  Sun, 08 Apr 2012 02:14:00 -0000      13   \n",
       "4           0.000000        0  Wed, 01 Jun 2011 15:25:39 -0000       6   \n",
       "\n",
       "                                       reward levels  updates  comments  \\\n",
       "0               $25,$50,$100,$250,$500,$1,000,$2,500       10         2   \n",
       "1                                  $1,$5,$10,$25,$50        6         0   \n",
       "2  $1,$10,$25,$40,$50,$100,$250,$1,000,$1,337,$9,001        1         0   \n",
       "3  $1,$10,$25,$30,$50,$75,$85,$100,$110,$250,$500...        4         0   \n",
       "4                         $10,$25,$50,$100,$150,$250        2         0   \n",
       "\n",
       "   duration  \n",
       "0     30.00  \n",
       "1     47.18  \n",
       "2     28.00  \n",
       "3     32.22  \n",
       "4     30.00  "
      ]
     },
     "execution_count": 3,
     "metadata": {},
     "output_type": "execute_result"
    }
   ],
   "source": [
    "df.head()"
   ]
  },
  {
   "cell_type": "code",
   "execution_count": 4,
   "metadata": {},
   "outputs": [
    {
     "data": {
      "text/plain": [
       "4980.749678963979"
      ]
     },
     "execution_count": 4,
     "metadata": {},
     "output_type": "execute_result"
    }
   ],
   "source": [
    "# Question 1:\n",
    "#What is the mean (total) pledge that projects get? (not per backer)*\n",
    "#Your answer may vary by +/- 5%\n",
    "pledged_amount_mean = np.mean(df[\"pledged\"])\n",
    "pledged_amount_mean\n",
    "\n"
   ]
  },
  {
   "cell_type": "code",
   "execution_count": 5,
   "metadata": {
    "collapsed": true
   },
   "outputs": [],
   "source": [
    "#Question 2:\n",
    "#Create a histogram that shows the distribution for number of backers. What is the skew of the distribution?*\n",
    "backer = df[\"backers\"]"
   ]
  },
  {
   "cell_type": "code",
   "execution_count": 14,
   "metadata": {},
   "outputs": [
    {
     "name": "stdout",
     "output_type": "stream",
     "text": [
      "The mean of backers is:  69.97319233196248\n",
      "The median of backers is :  23.0\n"
     ]
    },
    {
     "data": {
      "image/png": "[encoded data removed]",
      "text/plain": [
       "<matplotlib.figure.Figure at 0x24f047b2518>"
      ]
     },
     "metadata": {},
     "output_type": "display_data"
    }
   ],
   "source": [
    "import seaborn as sns\n",
    "sns.set()\n",
    "print(\"The mean of backers is: \", np.mean(backer))\n",
    "print(\"The median of backers is : \", np.median(backer))\n",
    "plt.hist(df[\"backers\"])\n",
    "plt.ylim(0, 100)\n",
    "plt.show()"
   ]
  },
  {
   "cell_type": "markdown",
   "metadata": {},
   "source": []
  },
  {
   "cell_type": "code",
   "execution_count": 54,
   "metadata": {},
   "outputs": [
    {
     "data": {
      "image/png": "[encoded data removed]",
      "text/plain": [
       "<matplotlib.figure.Figure at 0x24f3e16a588>"
      ]
     },
     "metadata": {},
     "output_type": "display_data"
    }
   ],
   "source": [
    "plt.hist(df[\"duration\"])\n",
    "plt.title(\"Duration\")\n",
    "plt.xlabel(\"Number of days\")\n",
    "plt.ylabel(\"Number of campaigns\")\n",
    "plt.show()\n",
    "#By looking at the plot we can see that its not normally distributed."
   ]
  },
  {
   "cell_type": "code",
   "execution_count": 57,
   "metadata": {},
   "outputs": [
    {
     "data": {
      "text/plain": [
       "\"Part 2: Qualitative Analysis\\n\\nCreate a presentation using Google Slides (max. 5 slides) using the data above (and additional data from those tables) \\nthat make clear recommendations on how people can create a successful Kickstarter campaign.\\n\\nBe sure to consider the following:\\n\\n - What's the best length of time to run a campaign?\\n-  What's the ideal pledge goal?\\n-  What type of projects would be most successful at getting funded?\\n-  Is there an ideal month/day/time to launch a campaign?\""
      ]
     },
     "execution_count": 57,
     "metadata": {},
     "output_type": "execute_result"
    }
   ],
   "source": [
    "'''Qualitative Analysis\n",
    "\n",
    "\n",
    " - What's the best length of time to run a campaign?\n",
    "-  What's the ideal pledge goal?\n",
    "-  What type of projects would be most successful at getting funded?\n",
    "-  Is there an ideal month/day/time to launch a campaign?'''\n",
    "\n"
   ]
  },
  {
   "cell_type": "code",
   "execution_count": 60,
   "metadata": {},
   "outputs": [
    {
     "data": {
      "image/png": "[encoded data removed]",
      "text/plain": [
       "<matplotlib.figure.Figure at 0x24f45aff828>"
      ]
     },
     "metadata": {},
     "output_type": "display_data"
    }
   ],
   "source": [
    "#- What's the best length of time to run a campaign?\n",
    "plt.scatter(df[\"duration\"], df[\"funded percentage\"], color = 'grey')\n",
    "plt.title(\"Number of days x Funded percentage\")\n",
    "plt.xlabel(\"Number of days\")\n",
    "plt.ylabel(\"Funded percentage\")\n",
    "plt.xlim(10, 60)\n",
    "plt.ylim(0, 2500)\n",
    "plt.show()\n",
    "#By looking at the graph below, campaign with 30 days of duration had more funded percentage thus success. \n",
    "#so we can conclude campaign with 30 days of duration has more chances of success."
   ]
  },
  {
   "cell_type": "code",
   "execution_count": 71,
   "metadata": {},
   "outputs": [
    {
     "name": "stdout",
     "output_type": "stream",
     "text": [
      "11942.709521509252\n"
     ]
    }
   ],
   "source": [
    "#-  What's the ideal pledge goal?\n",
    "ideal_goal = np.mean(df[\"goal\"])\n",
    "print(ideal_goal)"
   ]
  },
  {
   "cell_type": "code",
   "execution_count": 95,
   "metadata": {},
   "outputs": [
    {
     "name": "stdout",
     "output_type": "stream",
     "text": [
      "            category      status  project id  name   url  subcategory  \\\n",
      "0                Art      failed        1585  1585  1585         1585   \n",
      "1                Art        live         301   301   301          301   \n",
      "2                Art  successful        2106  2106  2106         2106   \n",
      "3             Comics      failed         448   448   448          448   \n",
      "4             Comics        live         104   104   104          104   \n",
      "5             Comics  successful         520   520   520          520   \n",
      "6              Dance      failed         180   180   180          180   \n",
      "7              Dance        live          54    54    54           54   \n",
      "8              Dance  successful         527   527   527          527   \n",
      "9             Design    canceled           2     2     2            2   \n",
      "10            Design      failed         837   837   837          837   \n",
      "11            Design        live         198   198   198          198   \n",
      "12            Design  successful         729   729   729          729   \n",
      "13            Design   suspended           2     2     2            2   \n",
      "14           Fashion      failed         684   684   684          684   \n",
      "15           Fashion        live         117   117   117          117   \n",
      "16           Fashion  successful         335   335   335          335   \n",
      "17      Film & Video    canceled           1     1     1            1   \n",
      "18      Film & Video      failed         210   210   210          210   \n",
      "19      Film & Video        live          41    41    41           41   \n",
      "20      Film & Video  successful         246   246   246          246   \n",
      "21  Film &amp; Video    canceled          22    22    22           22   \n",
      "22  Film &amp; Video      failed        5962  5962  5962         5962   \n",
      "23  Film &amp; Video        live         891   891   891          891   \n",
      "24  Film &amp; Video  successful        6177  6177  6177         6177   \n",
      "25  Film &amp; Video   suspended           1     1     1            1   \n",
      "26              Food    canceled           3     3     3            3   \n",
      "27              Food      failed         643   643   643          643   \n",
      "28              Food        live         138   138   138          138   \n",
      "29              Food  successful         655   655   655          655   \n",
      "30             Games    canceled          10    10    10           10   \n",
      "31             Games      failed         832   832   832          832   \n",
      "32             Games        live         261   261   261          261   \n",
      "33             Games  successful         635   635   635          635   \n",
      "34             Music    canceled           9     9     9            9   \n",
      "35             Music      failed        3261  3261  3261         3261   \n",
      "36             Music        live         851   851   851          851   \n",
      "37             Music  successful        6792  6792  6792         6792   \n",
      "38       Photography      failed         742   742   742          742   \n",
      "39       Photography        live         127   127   127          127   \n",
      "40       Photography  successful         645   645   645          645   \n",
      "41        Publishing    canceled          10    10    10           10   \n",
      "42        Publishing      failed        2484  2484  2484         2484   \n",
      "43        Publishing        live         605   605   605          605   \n",
      "44        Publishing  successful        1671  1671  1671         1671   \n",
      "45        Technology    canceled           2     2     2            2   \n",
      "46        Technology      failed         448   448   448          448   \n",
      "47        Technology        live          71    71    71           71   \n",
      "48        Technology  successful         289   289   289          289   \n",
      "49        Technology   suspended           1     1     1            1   \n",
      "50           Theater      failed         680   680   680          680   \n",
      "51           Theater        live         170   170   170          170   \n",
      "52           Theater  successful        1642  1642  1642         1642   \n",
      "\n",
      "    location  goal  pledged  funded percentage  backers  funded date  levels  \\\n",
      "0       1525  1585     1585               1585     1585         1585    1585   \n",
      "1        301   301      301                301      301          301     301   \n",
      "2       2053  2106     2106               2106     2106         2106    2106   \n",
      "3        425   448      448                448      448          448     448   \n",
      "4        104   104      103                104      104          104     104   \n",
      "5        507   520      520                520      520          520     520   \n",
      "6        171   180      180                180      180          180     180   \n",
      "7         54    54       54                 54       54           54      54   \n",
      "8        520   527      527                527      527          527     527   \n",
      "9          2     2        2                  2        2            2       2   \n",
      "10       818   837      837                837      837          837     837   \n",
      "11       198   198      195                198      198          198     198   \n",
      "12       720   729      729                729      729          729     729   \n",
      "13         2     2        2                  2        2            2       2   \n",
      "14       671   684      684                684      684          684     684   \n",
      "15       117   117      117                117      117          117     117   \n",
      "16       329   335      335                335      335          335     335   \n",
      "17         1     1        1                  1        1            1       1   \n",
      "18       201   210      210                210      210          210     210   \n",
      "19        41    41       41                 41       41           41      41   \n",
      "20       239   246      246                246      246          246     246   \n",
      "21        22    22       22                 22       22           22      22   \n",
      "22      5717  5962     5962               5962     5962         5962    5962   \n",
      "23       891   891      887                891      891          891     891   \n",
      "24      5978  6177     6177               6177     6177         6177    6177   \n",
      "25         1     1        1                  1        1            1       1   \n",
      "26         3     3        3                  3        3            3       3   \n",
      "27       624   643      643                643      643          643     643   \n",
      "28       138   138      138                138      138          138     138   \n",
      "29       646   655      655                655      655          655     655   \n",
      "30        10    10       10                 10       10           10      10   \n",
      "31       805   832      832                832      832          832     832   \n",
      "32       261   261      259                261      261          261     261   \n",
      "33       615   635      635                635      635          635     635   \n",
      "34         9     9        9                  9        9            9       9   \n",
      "35      3168  3261     3261               3261     3261         3261    3261   \n",
      "36       851   851      851                851      851          851     851   \n",
      "37      6651  6792     6792               6792     6792         6792    6792   \n",
      "38       703   742      742                742      742          742     742   \n",
      "39       127   127      127                127      127          127     127   \n",
      "40       595   645      645                645      645          645     645   \n",
      "41        10    10       10                 10       10           10      10   \n",
      "42      2388  2484     2484               2484     2484         2484    2484   \n",
      "43       605   605      605                605      605          605     605   \n",
      "44      1587  1671     1671               1671     1671         1671    1671   \n",
      "45         2     2        2                  2        2            2       2   \n",
      "46       424   448      448                448      448          448     448   \n",
      "47        71    71       69                 71       71           71      71   \n",
      "48       277   289      289                289      289          289     289   \n",
      "49         1     1        1                  1        1            1       1   \n",
      "50       664   680      680                680      680          680     680   \n",
      "51       170   170      170                170      170          170     170   \n",
      "52      1622  1642     1642               1642     1642         1642    1642   \n",
      "\n",
      "    reward levels  updates  comments  duration  \n",
      "0            1579     1585      1585      1585  \n",
      "1             301      301       301       301  \n",
      "2            2103     2106      2106      2106  \n",
      "3             447      448       448       448  \n",
      "4             104      104       104       104  \n",
      "5             519      520       520       520  \n",
      "6             180      180       180       180  \n",
      "7              54       54        54        54  \n",
      "8             526      527       527       527  \n",
      "9               2        2         2         2  \n",
      "10            834      837       837       837  \n",
      "11            198      198       198       198  \n",
      "12            728      729       729       729  \n",
      "13              2        2         2         2  \n",
      "14            684      684       684       684  \n",
      "15            117      117       117       117  \n",
      "16            335      335       335       335  \n",
      "17              1        1         1         1  \n",
      "18            210      210       210       210  \n",
      "19             41       41        41        41  \n",
      "20            246      246       246       246  \n",
      "21             22       22        22        22  \n",
      "22           5948     5962      5962      5962  \n",
      "23            891      891       891       891  \n",
      "24           6175     6177      6177      6177  \n",
      "25              1        1         1         1  \n",
      "26              3        3         3         3  \n",
      "27            643      643       643       643  \n",
      "28            138      138       138       138  \n",
      "29            655      655       655       655  \n",
      "30             10       10        10        10  \n",
      "31            831      832       832       832  \n",
      "32            261      261       261       261  \n",
      "33            634      635       635       635  \n",
      "34              9        9         9         9  \n",
      "35           3257     3261      3261      3261  \n",
      "36            851      851       851       851  \n",
      "37           6788     6792      6792      6792  \n",
      "38            742      742       742       742  \n",
      "39            127      127       127       127  \n",
      "40            644      645       645       645  \n",
      "41             10       10        10        10  \n",
      "42           2478     2484      2484      2484  \n",
      "43            605      605       605       605  \n",
      "44           1668     1671      1671      1671  \n",
      "45              2        2         2         2  \n",
      "46            446      448       448       448  \n",
      "47             71       71        71        71  \n",
      "48            289      289       289       289  \n",
      "49              1        1         1         1  \n",
      "50            678      680       680       680  \n",
      "51            170      170       170       170  \n",
      "52           1639     1642      1642      1642  \n"
     ]
    }
   ],
   "source": [
    "#-  What type of projects would be most successful at getting funded?\n",
    "# Music and Film&amp have more success rate.\n",
    "print(df.groupby([\"category\", \"status\"], as_index=False ).count())"
   ]
  },
  {
   "cell_type": "code",
   "execution_count": 97,
   "metadata": {},
   "outputs": [],
   "source": [
    "# Is there an ideal month/day/time to launch a campaign?\n"
   ]
  },
  {
   "cell_type": "code",
   "execution_count": null,
   "metadata": {
    "collapsed": true
   },
   "outputs": [],
   "source": []
  }
 ],
 "metadata": {
  "kernelspec": {
   "display_name": "Python 3",
   "language": "python",
   "name": "python3"
  },
  "language_info": {
   "codemirror_mode": {
    "name": "ipython",
    "version": 3
   },
   "file_extension": ".py",
   "mimetype": "text/x-python",
   "name": "python",
   "nbconvert_exporter": "python",
   "pygments_lexer": "ipython3",
   "version": "3.6.2"
  }
 },
 "nbformat": 4,
 "nbformat_minor": 2
}
