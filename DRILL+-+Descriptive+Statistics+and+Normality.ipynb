{
 "cells": [
  {
   "cell_type": "code",
   "execution_count": 2,
   "metadata": {},
   "outputs": [],
   "source": [
    "#To complete the following drills, you'll need to use your Python skills to create some datasets, \n",
    "#then use your new statistical knowledge to summarize them. Choose 6 distributions from the list of \n",
    "#random distributions available in NumPy, called “Distributions”\n",
    "\n",
    "#For each distribution:\n",
    "\n",
    "#Generate a random variable with 100 datapoints using the code \n",
    "#distributionvar = np.random.distributionname([arguments], 100), \n",
    "#replacing distributionvar with an appropriate variable name and distributionname with the name of the distribution \n",
    "#you’ve chosen, and filling in the empty space in the parentheses with your chosen values for the appropriate \n",
    "#parameters.If you feel uncertain about how to do this, go back to the “Other Distributions” \n",
    "#assignment for examples of code to use as a starting point. Graph the variable using a histogram.\n",
    "#Compute the mean and standard deviation and plot them as vertical lines on the histogram. \n",
    "#(Hint: the “When Does It Break?” assignment you just completed can help you here.)\n",
    "#Evaluate whether the descriptive statistics provided useful information about the variable. \n",
    "#Can you identify any common characteristics of the distributions that could be \n",
    "#usefully described using the mean and/or standard deviation, versus the ones that could not?\n",
    "\n",
    "#Additionally:\n",
    "\n",
    "#Generate two normally-distributed variables, one with a mean of 5 and standard deviation of 0.5, \n",
    "#and the other with a mean of 10 and standard deviation of 1.\n",
    "#Add them together to create a third variable.\n",
    "#Graph the third variable using a histogram.\n",
    "#Compute the mean and standard deviation and plot them as vertical lines on the histogram.\n",
    "#Evaluate the descriptive statistics against the data.\n",
    "#When you've given it a try, you can find a sample solution here.'''"
   ]
  },
  {
   "cell_type": "code",
   "execution_count": 3,
   "metadata": {
    "collapsed": true
   },
   "outputs": [],
   "source": [
    "import numpy as np\n",
    "import pandas as pd\n",
    "import matplotlib.pyplot as plt\n",
    "%matplotlib inline"
   ]
  },
  {
   "cell_type": "code",
   "execution_count": 44,
   "metadata": {},
   "outputs": [
    {
     "data": {
      "image/png": "[encoded data removed]",
      "text/plain": [
       "<matplotlib.figure.Figure at 0x115018b38>"
      ]
     },
     "metadata": {},
     "output_type": "display_data"
    }
   ],
   "source": [
    "pareto = np.random.pareto(5, 100) #Generate a Pareto distribution\n",
    "\n",
    "plt.hist(pareto, color = \"red\") #Plot a histogram of Pareto.\n",
    "plt.axvline(x=np.mean(pareto),color='blue') #adding a mean line.\n",
    "plt.axvline(x=np.std(pareto) ,color='black') #adding a standard deviation line.\n",
    "\n",
    "plt.show() #Show the histogram"
   ]
  },
  {
   "cell_type": "code",
   "execution_count": 79,
   "metadata": {},
   "outputs": [
    {
     "data": {
      "image/png": "[encoded data removed]",
      "text/plain": [
       "<matplotlib.figure.Figure at 0x114b25860>"
      ]
     },
     "metadata": {},
     "output_type": "display_data"
    }
   ],
   "source": [
    "exponential = np.random.exponential( 5, 100) #Generate a Exponential distribution\n",
    "\n",
    "plt.hist(exponential, color = \"green\") #Plot a histogram of Exponential.\n",
    "\n",
    "# exponential.sort() not sure if i has sort it before finding mean.\n",
    "\n",
    "plt.axvline(x=np.mean(exponential),color='blue') #adding a mean line.\n",
    "plt.axvline(x=np.std(exponential) ,color='black') #adding a standard deviation line.\n",
    "\n",
    "plt.show() #Show the histogram"
   ]
  },
  {
   "cell_type": "code",
   "execution_count": 49,
   "metadata": {},
   "outputs": [
    {
     "data": {
      "image/png": "[encoded data removed]",
      "text/plain": [
       "<matplotlib.figure.Figure at 0x114f26390>"
      ]
     },
     "metadata": {},
     "output_type": "display_data"
    }
   ],
   "source": [
    "rayleigh = np.random.rayleigh( 5, 100) #Generate a rayleigh distribution\n",
    "\n",
    "plt.hist(rayleigh, color = \"blue\") #Plot a histogram of rayleigh.\n",
    "\n",
    "# rayleigh.sort() not sure if i has sort it before finding mean.\n",
    "\n",
    "plt.axvline(x=np.mean(rayleigh),color='yellow') #adding a mean line.\n",
    "plt.axvline(x=np.std(rayleigh) ,color='black') #adding a standard deviation line.\n",
    "\n",
    "\n",
    "\n",
    "plt.show() #Show the histogram"
   ]
  },
  {
   "cell_type": "code",
   "execution_count": 75,
   "metadata": {},
   "outputs": [
    {
     "data": {
      "image/png": "[encoded data removed]",
      "text/plain": [
       "<matplotlib.figure.Figure at 0x1149b2e48>"
      ]
     },
     "metadata": {},
     "output_type": "display_data"
    }
   ],
   "source": [
    "wald = np.random.wald( 1, 5, 100) #Generate a wald distribution\n",
    "\n",
    "plt.hist(wald, color = \"lightgrey\") #Plot a histogram of wald.\n",
    "\n",
    "# wald.sort() not sure if i has sort it before finding mean.\n",
    "\n",
    "plt.axvline(x=np.mean(wald),color='green') #adding a mean line.\n",
    "plt.axvline(x=np.std(wald) ,color='black') #adding a standard deviation line.\n",
    "\n",
    "plt.show() #Show the histogram"
   ]
  },
  {
   "cell_type": "code",
   "execution_count": 74,
   "metadata": {},
   "outputs": [
    {
     "data": {
      "image/png": "[encoded data removed]",
      "text/plain": [
       "<matplotlib.figure.Figure at 0x114b19fd0>"
      ]
     },
     "metadata": {},
     "output_type": "display_data"
    }
   ],
   "source": [
    "uniform = np.random.uniform(0, .5 , 100) #Generate a uniform distribution\n",
    "\n",
    "plt.hist(uniform, color = \"skyblue\") #Plot a histogram of uniform.\n",
    "\n",
    "# uniform.sort() not sure if i has sort it before finding mean.\n",
    "\n",
    "plt.axvline(x=np.mean(uniform),color='green') #adding a mean line.\n",
    "plt.axvline(x=np.std(uniform) ,color='black') #adding a standard deviation line.\n",
    "\n",
    "plt.show() #Show the histogram"
   ]
  },
  {
   "cell_type": "code",
   "execution_count": 78,
   "metadata": {},
   "outputs": [
    {
     "data": {
      "image/png": "[encoded data removed]",
      "text/plain": [
       "<matplotlib.figure.Figure at 0x114e1b4e0>"
      ]
     },
     "metadata": {},
     "output_type": "display_data"
    }
   ],
   "source": [
    "logistic = np.random.logistic(0, .5 , 100) #Generate a logistic distribution\n",
    "\n",
    "plt.hist(logistic, color = \"lightpink\") #Plot a histogram of logistic.\n",
    "\n",
    "# logistic.sort() not sure if i has sort it before finding mean.\n",
    "\n",
    "plt.axvline(x=np.mean(logistic),color='blue') #adding a mean line.\n",
    "plt.axvline(x=np.std(logistic) ,color='black') #adding a standard deviation line.\n",
    "\n",
    "plt.show() #Show the histogram"
   ]
  },
  {
   "cell_type": "code",
   "execution_count": 80,
   "metadata": {
    "collapsed": true
   },
   "outputs": [],
   "source": [
    "# In the first two plot we can see mean and std are very close to each other, and other three have gap."
   ]
  },
  {
   "cell_type": "code",
   "execution_count": 81,
   "metadata": {
    "collapsed": true
   },
   "outputs": [],
   "source": [
    "#Additionally:\n",
    "\n",
    "#Generate two normally-distributed variables, one with a mean of 5 and standard deviation of 0.5, \n",
    "#and the other with a mean of 10 and standard deviation of 1.\n",
    "#Add them together to create a third variable.\n",
    "#Graph the third variable using a histogram.\n",
    "#Compute the mean and standard deviation and plot them as vertical lines on the histogram.\n",
    "#Evaluate the descriptive statistics against the data.\n"
   ]
  },
  {
   "cell_type": "code",
   "execution_count": 97,
   "metadata": {},
   "outputs": [
    {
     "data": {
      "image/png": "[encoded data removed]",
      "text/plain": [
       "<matplotlib.figure.Figure at 0x1150a4828>"
      ]
     },
     "metadata": {},
     "output_type": "display_data"
    }
   ],
   "source": [
    "var1 = np.random.normal(5,.5, 100) #creating first variable with mean of 5, and standard deviation of 0.5\n",
    "var2 = np.random.normal(10,1, 100) #creating second variable with mean of 10, and standard deviation of 1\n",
    "var3 = var1+var2                   #creating third variable by adding var1 and var2\n",
    "\n",
    "plt.hist(var3)                     #creating a histogram of var3\n",
    "plt.axvline(x=np.mean(var3), color = \"black\")\n",
    "plt.axvline(x=np.std(var3), color = \"yellow\")\n",
    "plt.axvline(x=np.mean(var3)-np.std(var3), color=\"green\")\n",
    "plt.axvline(x=np.mean(var3)+np.std(var3), color=\"green\")\n",
    "\n",
    "plt.show()\n",
    "\n"
   ]
  },
  {
   "cell_type": "code",
   "execution_count": null,
   "metadata": {
    "collapsed": true
   },
   "outputs": [],
   "source": []
  }
 ],
 "metadata": {
  "kernelspec": {
   "display_name": "Python 3",
   "language": "python",
   "name": "python3"
  },
  "language_info": {
   "codemirror_mode": {
    "name": "ipython",
    "version": 3
   },
   "file_extension": ".py",
   "mimetype": "text/x-python",
   "name": "python",
   "nbconvert_exporter": "python",
   "pygments_lexer": "ipython3",
   "version": "3.6.1"
  }
 },
 "nbformat": 4,
 "nbformat_minor": 2
}
